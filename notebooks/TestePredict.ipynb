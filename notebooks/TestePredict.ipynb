{
 "cells": [
  {
   "cell_type": "code",
   "id": "initial_id",
   "metadata": {
    "collapsed": true,
    "ExecuteTime": {
     "end_time": "2025-04-02T18:05:08.057154Z",
     "start_time": "2025-04-02T18:05:06.026903Z"
    }
   },
   "source": [
    "import json\n",
    "import pandas as pd\n",
    "import requests\n",
    "\n",
    "# -------------------------------------\n",
    "# CONFIGURAÇÕES NO PROMPT\n",
    "# Setar Python Path: $env:PYTHONPATH = \"$PWD\\src\"\n",
    "# Iniciar o servidor: mlflow models serve -m models:/kobe_lr_model/2 -p 5001 --no-conda --env-manager=local\n",
    "# -------------------------------------\n",
    "model_name = \"kobe_lr_model\"\n",
    "model_version = \"2\"  # ou use \"Staging\" ou \"Production\" se preferir\n",
    "mlflow_url = f\"http://localhost:5001/invocations\"  # porta do MLflow serving\n",
    "\n",
    "# -------------------------------------\n",
    "# INPUT EXEMPLO (tem que bater com o schema registrado)\n",
    "# -------------------------------------\n",
    "input_data = pd.DataFrame([{\n",
    "    \"lat\": 33.909,\n",
    "    \"lon\": -118.371,\n",
    "    \"minutes_remaining\": 7,\n",
    "    \"period\": 1,\n",
    "    \"playoffs\": 0,\n",
    "    \"shot_distance\": 16\n",
    "}])\n",
    "\n",
    "# -------------------------------------\n",
    "# REQUISIÇÃO PARA O MODELO VIA API\n",
    "# -------------------------------------\n",
    "headers = {\"Content-Type\": \"application/json\"}\n",
    "payload = {\n",
    "    \"inputs\": input_data.to_dict(orient=\"records\")\n",
    "}\n",
    "\n",
    "response = requests.post(mlflow_url, headers=headers, data=json.dumps(payload))\n",
    "\n",
    "# -------------------------------------\n",
    "# RESULTADO\n",
    "# -------------------------------------\n",
    "if response.status_code == 200:\n",
    "    probs = response.json()\n",
    "    #print(f\"Response: {probs}\")\n",
    "    print(f\"Probabilidade de NÃO (classe 0): {probs['predictions'][0][0]:.2%}\")\n",
    "    print(f\"Probabilidade de SIM (classe 1): {probs['predictions'][0][1]:.2%}\")\n",
    "else:\n",
    "    print(\"❌ Erro:\", response.status_code, response.text)\n"
   ],
   "outputs": [
    {
     "name": "stdout",
     "output_type": "stream",
     "text": [
      "Probabilidade de NÃO (classe 0): 99.98%\n",
      "Probabilidade de SIM (classe 1): 0.02%\n"
     ]
    }
   ],
   "execution_count": 17
  }
 ],
 "metadata": {
  "kernelspec": {
   "display_name": "Python 3",
   "language": "python",
   "name": "python3"
  },
  "language_info": {
   "codemirror_mode": {
    "name": "ipython",
    "version": 2
   },
   "file_extension": ".py",
   "mimetype": "text/x-python",
   "name": "python",
   "nbconvert_exporter": "python",
   "pygments_lexer": "ipython2",
   "version": "2.7.6"
  }
 },
 "nbformat": 4,
 "nbformat_minor": 5
}

{
 "cells": [
  {
   "metadata": {
    "ExecuteTime": {
     "end_time": "2025-03-30T21:00:07.677750Z",
     "start_time": "2025-03-30T21:00:00.931165Z"
    }
   },
   "cell_type": "code",
   "source": "%load_ext kedro.ipython",
   "id": "efbbcb1c2e7a9a6b",
   "outputs": [
    {
     "data": {
      "text/plain": [
       "\u001B[2;36m[03/30/25 18:00:01]\u001B[0m\u001B[2;36m \u001B[0m\u001B[34mINFO    \u001B[0m Using                                                                  \u001B]8;id=628830;file://D:\\devtools\\venv-pos-ia\\Lib\\site-packages\\kedro\\framework\\project\\__init__.py\u001B\\\u001B[2m__init__.py\u001B[0m\u001B]8;;\u001B\\\u001B[2m:\u001B[0m\u001B]8;id=892095;file://D:\\devtools\\venv-pos-ia\\Lib\\site-packages\\kedro\\framework\\project\\__init__.py#270\u001B\\\u001B[2m270\u001B[0m\u001B]8;;\u001B\\\n",
       "\u001B[2;36m                    \u001B[0m         \u001B[32m'D:\\devtools\\venv-pos-ia\\Lib\\site-packages\\kedro\\framework\\project\\ric\u001B[0m \u001B[2m               \u001B[0m\n",
       "\u001B[2;36m                    \u001B[0m         \u001B[32mh_logging.yml'\u001B[0m as logging configuration.                               \u001B[2m               \u001B[0m\n"
      ],
      "text/html": [
       "<pre style=\"white-space:pre;overflow-x:auto;line-height:normal;font-family:Menlo,'DejaVu Sans Mono',consolas,'Courier New',monospace\"><span style=\"color: #7fbfbf; text-decoration-color: #7fbfbf\">[03/30/25 18:00:01] </span><span style=\"color: #000080; text-decoration-color: #000080\">INFO    </span> Using                                                                  <a href=\"file://D:\\devtools\\venv-pos-ia\\Lib\\site-packages\\kedro\\framework\\project\\__init__.py\" target=\"_blank\"><span style=\"color: #7f7f7f; text-decoration-color: #7f7f7f\">__init__.py</span></a><span style=\"color: #7f7f7f; text-decoration-color: #7f7f7f\">:</span><a href=\"file://D:\\devtools\\venv-pos-ia\\Lib\\site-packages\\kedro\\framework\\project\\__init__.py#270\" target=\"_blank\"><span style=\"color: #7f7f7f; text-decoration-color: #7f7f7f\">270</span></a>\n",
       "<span style=\"color: #7fbfbf; text-decoration-color: #7fbfbf\">                    </span>         <span style=\"color: #008000; text-decoration-color: #008000\">'D:\\devtools\\venv-pos-ia\\Lib\\site-packages\\kedro\\framework\\project\\ric</span> <span style=\"color: #7f7f7f; text-decoration-color: #7f7f7f\">               </span>\n",
       "<span style=\"color: #7fbfbf; text-decoration-color: #7fbfbf\">                    </span>         <span style=\"color: #008000; text-decoration-color: #008000\">h_logging.yml'</span> as logging configuration.                               <span style=\"color: #7f7f7f; text-decoration-color: #7f7f7f\">               </span>\n",
       "</pre>\n"
      ]
     },
     "metadata": {},
     "output_type": "display_data"
    },
    {
     "data": {
      "text/plain": [
       "\u001B[2;36m                   \u001B[0m\u001B[2;36m \u001B[0m\u001B[34mINFO    \u001B[0m Registered line magic \u001B[32m'%reload_kedro'\u001B[0m                                   \u001B]8;id=304357;file://D:\\devtools\\venv-pos-ia\\Lib\\site-packages\\kedro\\ipython\\__init__.py\u001B\\\u001B[2m__init__.py\u001B[0m\u001B]8;;\u001B\\\u001B[2m:\u001B[0m\u001B]8;id=334585;file://D:\\devtools\\venv-pos-ia\\Lib\\site-packages\\kedro\\ipython\\__init__.py#63\u001B\\\u001B[2m63\u001B[0m\u001B]8;;\u001B\\\n"
      ],
      "text/html": [
       "<pre style=\"white-space:pre;overflow-x:auto;line-height:normal;font-family:Menlo,'DejaVu Sans Mono',consolas,'Courier New',monospace\"><span style=\"color: #7fbfbf; text-decoration-color: #7fbfbf\">                    </span><span style=\"color: #000080; text-decoration-color: #000080\">INFO    </span> Registered line magic <span style=\"color: #008000; text-decoration-color: #008000\">'%reload_kedro'</span>                                   <a href=\"file://D:\\devtools\\venv-pos-ia\\Lib\\site-packages\\kedro\\ipython\\__init__.py\" target=\"_blank\"><span style=\"color: #7f7f7f; text-decoration-color: #7f7f7f\">__init__.py</span></a><span style=\"color: #7f7f7f; text-decoration-color: #7f7f7f\">:</span><a href=\"file://D:\\devtools\\venv-pos-ia\\Lib\\site-packages\\kedro\\ipython\\__init__.py#63\" target=\"_blank\"><span style=\"color: #7f7f7f; text-decoration-color: #7f7f7f\">63</span></a>\n",
       "</pre>\n"
      ]
     },
     "metadata": {},
     "output_type": "display_data"
    },
    {
     "data": {
      "text/plain": [
       "\u001B[2;36m                   \u001B[0m\u001B[2;36m \u001B[0m\u001B[34mINFO    \u001B[0m Registered line magic \u001B[32m'%load_node'\u001B[0m                                      \u001B]8;id=56141;file://D:\\devtools\\venv-pos-ia\\Lib\\site-packages\\kedro\\ipython\\__init__.py\u001B\\\u001B[2m__init__.py\u001B[0m\u001B]8;;\u001B\\\u001B[2m:\u001B[0m\u001B]8;id=135803;file://D:\\devtools\\venv-pos-ia\\Lib\\site-packages\\kedro\\ipython\\__init__.py#65\u001B\\\u001B[2m65\u001B[0m\u001B]8;;\u001B\\\n"
      ],
      "text/html": [
       "<pre style=\"white-space:pre;overflow-x:auto;line-height:normal;font-family:Menlo,'DejaVu Sans Mono',consolas,'Courier New',monospace\"><span style=\"color: #7fbfbf; text-decoration-color: #7fbfbf\">                    </span><span style=\"color: #000080; text-decoration-color: #000080\">INFO    </span> Registered line magic <span style=\"color: #008000; text-decoration-color: #008000\">'%load_node'</span>                                      <a href=\"file://D:\\devtools\\venv-pos-ia\\Lib\\site-packages\\kedro\\ipython\\__init__.py\" target=\"_blank\"><span style=\"color: #7f7f7f; text-decoration-color: #7f7f7f\">__init__.py</span></a><span style=\"color: #7f7f7f; text-decoration-color: #7f7f7f\">:</span><a href=\"file://D:\\devtools\\venv-pos-ia\\Lib\\site-packages\\kedro\\ipython\\__init__.py#65\" target=\"_blank\"><span style=\"color: #7f7f7f; text-decoration-color: #7f7f7f\">65</span></a>\n",
       "</pre>\n"
      ]
     },
     "metadata": {},
     "output_type": "display_data"
    },
    {
     "data": {
      "text/plain": [
       "\u001B[2;36m                   \u001B[0m\u001B[2;36m \u001B[0m\u001B[34mINFO    \u001B[0m Resolved project path as: D:\\devtools\\infnet.                          \u001B]8;id=400248;file://D:\\devtools\\venv-pos-ia\\Lib\\site-packages\\kedro\\ipython\\__init__.py\u001B\\\u001B[2m__init__.py\u001B[0m\u001B]8;;\u001B\\\u001B[2m:\u001B[0m\u001B]8;id=207702;file://D:\\devtools\\venv-pos-ia\\Lib\\site-packages\\kedro\\ipython\\__init__.py#180\u001B\\\u001B[2m180\u001B[0m\u001B]8;;\u001B\\\n",
       "\u001B[2;36m                    \u001B[0m         To set a different path, run \u001B[32m'%reload_kedro \u001B[0m\u001B[32m<\u001B[0m\u001B[32mproject_root\u001B[0m\u001B[32m>\u001B[0m\u001B[32m'\u001B[0m            \u001B[2m               \u001B[0m\n"
      ],
      "text/html": [
       "<pre style=\"white-space:pre;overflow-x:auto;line-height:normal;font-family:Menlo,'DejaVu Sans Mono',consolas,'Courier New',monospace\"><span style=\"color: #7fbfbf; text-decoration-color: #7fbfbf\">                    </span><span style=\"color: #000080; text-decoration-color: #000080\">INFO    </span> Resolved project path as: D:\\devtools\\infnet.                          <a href=\"file://D:\\devtools\\venv-pos-ia\\Lib\\site-packages\\kedro\\ipython\\__init__.py\" target=\"_blank\"><span style=\"color: #7f7f7f; text-decoration-color: #7f7f7f\">__init__.py</span></a><span style=\"color: #7f7f7f; text-decoration-color: #7f7f7f\">:</span><a href=\"file://D:\\devtools\\venv-pos-ia\\Lib\\site-packages\\kedro\\ipython\\__init__.py#180\" target=\"_blank\"><span style=\"color: #7f7f7f; text-decoration-color: #7f7f7f\">180</span></a>\n",
       "<span style=\"color: #7fbfbf; text-decoration-color: #7fbfbf\">                    </span>         To set a different path, run <span style=\"color: #008000; text-decoration-color: #008000\">'%reload_kedro &lt;project_root&gt;'</span>            <span style=\"color: #7f7f7f; text-decoration-color: #7f7f7f\">               </span>\n",
       "</pre>\n"
      ]
     },
     "metadata": {},
     "output_type": "display_data"
    },
    {
     "data": {
      "text/plain": [
       "\u001B[2;36m[03/30/25 18:00:06]\u001B[0m\u001B[2;36m \u001B[0m\u001B[33mWARNING \u001B[0m D:\\devtools\\venv-pos-ia\\Lib\\site-packages\\mlflow\\pyfunc\\utils\\data_val \u001B]8;id=749680;file://C:\\Python311\\Lib\\warnings.py\u001B\\\u001B[2mwarnings.py\u001B[0m\u001B]8;;\u001B\\\u001B[2m:\u001B[0m\u001B]8;id=136233;file://C:\\Python311\\Lib\\warnings.py#110\u001B\\\u001B[2m110\u001B[0m\u001B]8;;\u001B\\\n",
       "\u001B[2;36m                    \u001B[0m         idation.py:\u001B[1;36m168\u001B[0m: UserWarning: \u001B\u001B[1m[\u001B[0m33mAdd type hints to the `predict`       \u001B[2m               \u001B[0m\n",
       "\u001B[2;36m                    \u001B[0m         method to enable data validation and automatic signature inference     \u001B[2m               \u001B[0m\n",
       "\u001B[2;36m                    \u001B[0m         during model logging. Check                                            \u001B[2m               \u001B[0m\n",
       "\u001B[2;36m                    \u001B[0m         \u001B[4;94mhttps://mlflow.org/docs/latest/model/python_model.html#type-hint-usage\u001B[0m \u001B[2m               \u001B[0m\n",
       "\u001B[2;36m                    \u001B[0m         \u001B[4;94m-in-pythonmodel\u001B[0m for more details.\u001B\u001B[1m[\u001B[0m0m                                   \u001B[2m               \u001B[0m\n",
       "\u001B[2;36m                    \u001B[0m           \u001B[1;35mcolor_warning\u001B[0m\u001B[1m(\u001B[0m                                                       \u001B[2m               \u001B[0m\n",
       "\u001B[2;36m                    \u001B[0m                                                                                \u001B[2m               \u001B[0m\n"
      ],
      "text/html": [
       "<pre style=\"white-space:pre;overflow-x:auto;line-height:normal;font-family:Menlo,'DejaVu Sans Mono',consolas,'Courier New',monospace\"><span style=\"color: #7fbfbf; text-decoration-color: #7fbfbf\">[03/30/25 18:00:06] </span><span style=\"color: #808000; text-decoration-color: #808000\">WARNING </span> D:\\devtools\\venv-pos-ia\\Lib\\site-packages\\mlflow\\pyfunc\\utils\\data_val <a href=\"file://C:\\Python311\\Lib\\warnings.py\" target=\"_blank\"><span style=\"color: #7f7f7f; text-decoration-color: #7f7f7f\">warnings.py</span></a><span style=\"color: #7f7f7f; text-decoration-color: #7f7f7f\">:</span><a href=\"file://C:\\Python311\\Lib\\warnings.py#110\" target=\"_blank\"><span style=\"color: #7f7f7f; text-decoration-color: #7f7f7f\">110</span></a>\n",
       "<span style=\"color: #7fbfbf; text-decoration-color: #7fbfbf\">                    </span>         idation.py:<span style=\"color: #008080; text-decoration-color: #008080; font-weight: bold\">168</span>: UserWarning: \u001B<span style=\"font-weight: bold\">[</span>33mAdd type hints to the `predict`       <span style=\"color: #7f7f7f; text-decoration-color: #7f7f7f\">               </span>\n",
       "<span style=\"color: #7fbfbf; text-decoration-color: #7fbfbf\">                    </span>         method to enable data validation and automatic signature inference     <span style=\"color: #7f7f7f; text-decoration-color: #7f7f7f\">               </span>\n",
       "<span style=\"color: #7fbfbf; text-decoration-color: #7fbfbf\">                    </span>         during model logging. Check                                            <span style=\"color: #7f7f7f; text-decoration-color: #7f7f7f\">               </span>\n",
       "<span style=\"color: #7fbfbf; text-decoration-color: #7fbfbf\">                    </span>         <span style=\"color: #0000ff; text-decoration-color: #0000ff; text-decoration: underline\">https://mlflow.org/docs/latest/model/python_model.html#type-hint-usage</span> <span style=\"color: #7f7f7f; text-decoration-color: #7f7f7f\">               </span>\n",
       "<span style=\"color: #7fbfbf; text-decoration-color: #7fbfbf\">                    </span>         <span style=\"color: #0000ff; text-decoration-color: #0000ff; text-decoration: underline\">-in-pythonmodel</span> for more details.\u001B<span style=\"font-weight: bold\">[</span>0m                                   <span style=\"color: #7f7f7f; text-decoration-color: #7f7f7f\">               </span>\n",
       "<span style=\"color: #7fbfbf; text-decoration-color: #7fbfbf\">                    </span>           <span style=\"color: #800080; text-decoration-color: #800080; font-weight: bold\">color_warning</span><span style=\"font-weight: bold\">(</span>                                                       <span style=\"color: #7f7f7f; text-decoration-color: #7f7f7f\">               </span>\n",
       "<span style=\"color: #7fbfbf; text-decoration-color: #7fbfbf\">                    </span>                                                                                <span style=\"color: #7f7f7f; text-decoration-color: #7f7f7f\">               </span>\n",
       "</pre>\n"
      ]
     },
     "metadata": {},
     "output_type": "display_data"
    },
    {
     "data": {
      "text/plain": [
       "\u001B[2;36m                   \u001B[0m\u001B[2;36m \u001B[0m\u001B[34mINFO    \u001B[0m Registering new custom resolver: \u001B[32m'km.random_name'\u001B[0m                    \u001B]8;id=807908;file://D:\\devtools\\venv-pos-ia\\Lib\\site-packages\\kedro_mlflow\\framework\\hooks\\mlflow_hook.py\u001B\\\u001B[2mmlflow_hook.py\u001B[0m\u001B]8;;\u001B\\\u001B[2m:\u001B[0m\u001B]8;id=616019;file://D:\\devtools\\venv-pos-ia\\Lib\\site-packages\\kedro_mlflow\\framework\\hooks\\mlflow_hook.py#65\u001B\\\u001B[2m65\u001B[0m\u001B]8;;\u001B\\\n"
      ],
      "text/html": [
       "<pre style=\"white-space:pre;overflow-x:auto;line-height:normal;font-family:Menlo,'DejaVu Sans Mono',consolas,'Courier New',monospace\"><span style=\"color: #7fbfbf; text-decoration-color: #7fbfbf\">                    </span><span style=\"color: #000080; text-decoration-color: #000080\">INFO    </span> Registering new custom resolver: <span style=\"color: #008000; text-decoration-color: #008000\">'km.random_name'</span>                    <a href=\"file://D:\\devtools\\venv-pos-ia\\Lib\\site-packages\\kedro_mlflow\\framework\\hooks\\mlflow_hook.py\" target=\"_blank\"><span style=\"color: #7f7f7f; text-decoration-color: #7f7f7f\">mlflow_hook.py</span></a><span style=\"color: #7f7f7f; text-decoration-color: #7f7f7f\">:</span><a href=\"file://D:\\devtools\\venv-pos-ia\\Lib\\site-packages\\kedro_mlflow\\framework\\hooks\\mlflow_hook.py#65\" target=\"_blank\"><span style=\"color: #7f7f7f; text-decoration-color: #7f7f7f\">65</span></a>\n",
       "</pre>\n"
      ]
     },
     "metadata": {},
     "output_type": "display_data"
    },
    {
     "data": {
      "text/plain": [
       "\u001B[2;36m                   \u001B[0m\u001B[2;36m \u001B[0m\u001B[33mWARNING \u001B[0m No \u001B[32m'mlflow.yml'\u001B[0m config file found in environment. Default            \u001B]8;id=701061;file://D:\\devtools\\venv-pos-ia\\Lib\\site-packages\\kedro_mlflow\\framework\\hooks\\mlflow_hook.py\u001B\\\u001B[2mmlflow_hook.py\u001B[0m\u001B]8;;\u001B\\\u001B[2m:\u001B[0m\u001B]8;id=960672;file://D:\\devtools\\venv-pos-ia\\Lib\\site-packages\\kedro_mlflow\\framework\\hooks\\mlflow_hook.py#78\u001B\\\u001B[2m78\u001B[0m\u001B]8;;\u001B\\\n",
       "\u001B[2;36m                    \u001B[0m         configuration will be used. Use ``kedro mlflow init`` command in CLI \u001B[2m                 \u001B[0m\n",
       "\u001B[2;36m                    \u001B[0m         to customize the configuration.                                      \u001B[2m                 \u001B[0m\n"
      ],
      "text/html": [
       "<pre style=\"white-space:pre;overflow-x:auto;line-height:normal;font-family:Menlo,'DejaVu Sans Mono',consolas,'Courier New',monospace\"><span style=\"color: #7fbfbf; text-decoration-color: #7fbfbf\">                    </span><span style=\"color: #808000; text-decoration-color: #808000\">WARNING </span> No <span style=\"color: #008000; text-decoration-color: #008000\">'mlflow.yml'</span> config file found in environment. Default            <a href=\"file://D:\\devtools\\venv-pos-ia\\Lib\\site-packages\\kedro_mlflow\\framework\\hooks\\mlflow_hook.py\" target=\"_blank\"><span style=\"color: #7f7f7f; text-decoration-color: #7f7f7f\">mlflow_hook.py</span></a><span style=\"color: #7f7f7f; text-decoration-color: #7f7f7f\">:</span><a href=\"file://D:\\devtools\\venv-pos-ia\\Lib\\site-packages\\kedro_mlflow\\framework\\hooks\\mlflow_hook.py#78\" target=\"_blank\"><span style=\"color: #7f7f7f; text-decoration-color: #7f7f7f\">78</span></a>\n",
       "<span style=\"color: #7fbfbf; text-decoration-color: #7fbfbf\">                    </span>         configuration will be used. Use ``kedro mlflow init`` command in CLI <span style=\"color: #7f7f7f; text-decoration-color: #7f7f7f\">                 </span>\n",
       "<span style=\"color: #7fbfbf; text-decoration-color: #7fbfbf\">                    </span>         to customize the configuration.                                      <span style=\"color: #7f7f7f; text-decoration-color: #7f7f7f\">                 </span>\n",
       "</pre>\n"
      ]
     },
     "metadata": {},
     "output_type": "display_data"
    },
    {
     "data": {
      "text/plain": [
       "\u001B[2;36m                   \u001B[0m\u001B[2;36m \u001B[0m\u001B[34mINFO    \u001B[0m The \u001B[32m'tracking_uri'\u001B[0m key in mlflow.yml is relative            \u001B]8;id=128027;file://D:\\devtools\\venv-pos-ia\\Lib\\site-packages\\kedro_mlflow\\config\\kedro_mlflow_config.py\u001B\\\u001B[2mkedro_mlflow_config.py\u001B[0m\u001B]8;;\u001B\\\u001B[2m:\u001B[0m\u001B]8;id=646956;file://D:\\devtools\\venv-pos-ia\\Lib\\site-packages\\kedro_mlflow\\config\\kedro_mlflow_config.py#293\u001B\\\u001B[2m293\u001B[0m\u001B]8;;\u001B\\\n",
       "\u001B[2;36m                    \u001B[0m         \u001B[1m(\u001B[0m\u001B[32m'server.mlflow_\u001B[0m\u001B[32m(\u001B[0m\u001B[32mtracking|registry\u001B[0m\u001B[32m)\u001B[0m\u001B[32m_uri = mlruns'\u001B[0m\u001B[1m)\u001B[0m. It is   \u001B[2m                          \u001B[0m\n",
       "\u001B[2;36m                    \u001B[0m         converted to a valid uri:                                   \u001B[2m                          \u001B[0m\n",
       "\u001B[2;36m                    \u001B[0m         \u001B[32m'file:///D:/devtools/infnet/mlruns'\u001B[0m                         \u001B[2m                          \u001B[0m\n"
      ],
      "text/html": [
       "<pre style=\"white-space:pre;overflow-x:auto;line-height:normal;font-family:Menlo,'DejaVu Sans Mono',consolas,'Courier New',monospace\"><span style=\"color: #7fbfbf; text-decoration-color: #7fbfbf\">                    </span><span style=\"color: #000080; text-decoration-color: #000080\">INFO    </span> The <span style=\"color: #008000; text-decoration-color: #008000\">'tracking_uri'</span> key in mlflow.yml is relative            <a href=\"file://D:\\devtools\\venv-pos-ia\\Lib\\site-packages\\kedro_mlflow\\config\\kedro_mlflow_config.py\" target=\"_blank\"><span style=\"color: #7f7f7f; text-decoration-color: #7f7f7f\">kedro_mlflow_config.py</span></a><span style=\"color: #7f7f7f; text-decoration-color: #7f7f7f\">:</span><a href=\"file://D:\\devtools\\venv-pos-ia\\Lib\\site-packages\\kedro_mlflow\\config\\kedro_mlflow_config.py#293\" target=\"_blank\"><span style=\"color: #7f7f7f; text-decoration-color: #7f7f7f\">293</span></a>\n",
       "<span style=\"color: #7fbfbf; text-decoration-color: #7fbfbf\">                    </span>         <span style=\"font-weight: bold\">(</span><span style=\"color: #008000; text-decoration-color: #008000\">'server.mlflow_(tracking|registry)_uri = mlruns'</span><span style=\"font-weight: bold\">)</span>. It is   <span style=\"color: #7f7f7f; text-decoration-color: #7f7f7f\">                          </span>\n",
       "<span style=\"color: #7fbfbf; text-decoration-color: #7fbfbf\">                    </span>         converted to a valid uri:                                   <span style=\"color: #7f7f7f; text-decoration-color: #7f7f7f\">                          </span>\n",
       "<span style=\"color: #7fbfbf; text-decoration-color: #7fbfbf\">                    </span>         <span style=\"color: #008000; text-decoration-color: #008000\">'file:///D:/devtools/infnet/mlruns'</span>                         <span style=\"color: #7f7f7f; text-decoration-color: #7f7f7f\">                          </span>\n",
       "</pre>\n"
      ]
     },
     "metadata": {},
     "output_type": "display_data"
    },
    {
     "data": {
      "text/plain": [
       "\u001B[2;36m[03/30/25 18:00:07]\u001B[0m\u001B[2;36m \u001B[0m\u001B[34mINFO    \u001B[0m Kedro is sending anonymous usage data with the sole purpose of improving \u001B]8;id=752666;file://D:\\devtools\\venv-pos-ia\\Lib\\site-packages\\kedro_telemetry\\plugin.py\u001B\\\u001B[2mplugin.py\u001B[0m\u001B]8;;\u001B\\\u001B[2m:\u001B[0m\u001B]8;id=599488;file://D:\\devtools\\venv-pos-ia\\Lib\\site-packages\\kedro_telemetry\\plugin.py#233\u001B\\\u001B[2m233\u001B[0m\u001B]8;;\u001B\\\n",
       "\u001B[2;36m                    \u001B[0m         the product. No personal data or IP addresses are stored on our side. If \u001B[2m             \u001B[0m\n",
       "\u001B[2;36m                    \u001B[0m         you want to opt out, set the `KEDRO_DISABLE_TELEMETRY` or `DO_NOT_TRACK` \u001B[2m             \u001B[0m\n",
       "\u001B[2;36m                    \u001B[0m         environment variables, or create a `.telemetry` file in the current      \u001B[2m             \u001B[0m\n",
       "\u001B[2;36m                    \u001B[0m         working directory with the contents `consent: false`. Read more at       \u001B[2m             \u001B[0m\n",
       "\u001B[2;36m                    \u001B[0m         \u001B[4;94mhttps://docs.kedro.org/en/stable/configuration/telemetry.html\u001B[0m            \u001B[2m             \u001B[0m\n"
      ],
      "text/html": [
       "<pre style=\"white-space:pre;overflow-x:auto;line-height:normal;font-family:Menlo,'DejaVu Sans Mono',consolas,'Courier New',monospace\"><span style=\"color: #7fbfbf; text-decoration-color: #7fbfbf\">[03/30/25 18:00:07] </span><span style=\"color: #000080; text-decoration-color: #000080\">INFO    </span> Kedro is sending anonymous usage data with the sole purpose of improving <a href=\"file://D:\\devtools\\venv-pos-ia\\Lib\\site-packages\\kedro_telemetry\\plugin.py\" target=\"_blank\"><span style=\"color: #7f7f7f; text-decoration-color: #7f7f7f\">plugin.py</span></a><span style=\"color: #7f7f7f; text-decoration-color: #7f7f7f\">:</span><a href=\"file://D:\\devtools\\venv-pos-ia\\Lib\\site-packages\\kedro_telemetry\\plugin.py#233\" target=\"_blank\"><span style=\"color: #7f7f7f; text-decoration-color: #7f7f7f\">233</span></a>\n",
       "<span style=\"color: #7fbfbf; text-decoration-color: #7fbfbf\">                    </span>         the product. No personal data or IP addresses are stored on our side. If <span style=\"color: #7f7f7f; text-decoration-color: #7f7f7f\">             </span>\n",
       "<span style=\"color: #7fbfbf; text-decoration-color: #7fbfbf\">                    </span>         you want to opt out, set the `KEDRO_DISABLE_TELEMETRY` or `DO_NOT_TRACK` <span style=\"color: #7f7f7f; text-decoration-color: #7f7f7f\">             </span>\n",
       "<span style=\"color: #7fbfbf; text-decoration-color: #7fbfbf\">                    </span>         environment variables, or create a `.telemetry` file in the current      <span style=\"color: #7f7f7f; text-decoration-color: #7f7f7f\">             </span>\n",
       "<span style=\"color: #7fbfbf; text-decoration-color: #7fbfbf\">                    </span>         working directory with the contents `consent: false`. Read more at       <span style=\"color: #7f7f7f; text-decoration-color: #7f7f7f\">             </span>\n",
       "<span style=\"color: #7fbfbf; text-decoration-color: #7fbfbf\">                    </span>         <span style=\"color: #0000ff; text-decoration-color: #0000ff; text-decoration: underline\">https://docs.kedro.org/en/stable/configuration/telemetry.html</span>            <span style=\"color: #7f7f7f; text-decoration-color: #7f7f7f\">             </span>\n",
       "</pre>\n"
      ]
     },
     "metadata": {},
     "output_type": "display_data"
    },
    {
     "data": {
      "text/plain": [
       "\u001B[2;36m                   \u001B[0m\u001B[2;36m \u001B[0m\u001B[34mINFO    \u001B[0m Kedro project infnet                                                   \u001B]8;id=97614;file://D:\\devtools\\venv-pos-ia\\Lib\\site-packages\\kedro\\ipython\\__init__.py\u001B\\\u001B[2m__init__.py\u001B[0m\u001B]8;;\u001B\\\u001B[2m:\u001B[0m\u001B]8;id=550902;file://D:\\devtools\\venv-pos-ia\\Lib\\site-packages\\kedro\\ipython\\__init__.py#146\u001B\\\u001B[2m146\u001B[0m\u001B]8;;\u001B\\\n"
      ],
      "text/html": [
       "<pre style=\"white-space:pre;overflow-x:auto;line-height:normal;font-family:Menlo,'DejaVu Sans Mono',consolas,'Courier New',monospace\"><span style=\"color: #7fbfbf; text-decoration-color: #7fbfbf\">                    </span><span style=\"color: #000080; text-decoration-color: #000080\">INFO    </span> Kedro project infnet                                                   <a href=\"file://D:\\devtools\\venv-pos-ia\\Lib\\site-packages\\kedro\\ipython\\__init__.py\" target=\"_blank\"><span style=\"color: #7f7f7f; text-decoration-color: #7f7f7f\">__init__.py</span></a><span style=\"color: #7f7f7f; text-decoration-color: #7f7f7f\">:</span><a href=\"file://D:\\devtools\\venv-pos-ia\\Lib\\site-packages\\kedro\\ipython\\__init__.py#146\" target=\"_blank\"><span style=\"color: #7f7f7f; text-decoration-color: #7f7f7f\">146</span></a>\n",
       "</pre>\n"
      ]
     },
     "metadata": {},
     "output_type": "display_data"
    },
    {
     "data": {
      "text/plain": [
       "\u001B[2;36m                   \u001B[0m\u001B[2;36m \u001B[0m\u001B[34mINFO    \u001B[0m Defined global variable \u001B[32m'context'\u001B[0m, \u001B[32m'session'\u001B[0m, \u001B[32m'catalog'\u001B[0m and            \u001B]8;id=608206;file://D:\\devtools\\venv-pos-ia\\Lib\\site-packages\\kedro\\ipython\\__init__.py\u001B\\\u001B[2m__init__.py\u001B[0m\u001B]8;;\u001B\\\u001B[2m:\u001B[0m\u001B]8;id=99219;file://D:\\devtools\\venv-pos-ia\\Lib\\site-packages\\kedro\\ipython\\__init__.py#147\u001B\\\u001B[2m147\u001B[0m\u001B]8;;\u001B\\\n",
       "\u001B[2;36m                    \u001B[0m         \u001B[32m'pipelines'\u001B[0m                                                            \u001B[2m               \u001B[0m\n"
      ],
      "text/html": [
       "<pre style=\"white-space:pre;overflow-x:auto;line-height:normal;font-family:Menlo,'DejaVu Sans Mono',consolas,'Courier New',monospace\"><span style=\"color: #7fbfbf; text-decoration-color: #7fbfbf\">                    </span><span style=\"color: #000080; text-decoration-color: #000080\">INFO    </span> Defined global variable <span style=\"color: #008000; text-decoration-color: #008000\">'context'</span>, <span style=\"color: #008000; text-decoration-color: #008000\">'session'</span>, <span style=\"color: #008000; text-decoration-color: #008000\">'catalog'</span> and            <a href=\"file://D:\\devtools\\venv-pos-ia\\Lib\\site-packages\\kedro\\ipython\\__init__.py\" target=\"_blank\"><span style=\"color: #7f7f7f; text-decoration-color: #7f7f7f\">__init__.py</span></a><span style=\"color: #7f7f7f; text-decoration-color: #7f7f7f\">:</span><a href=\"file://D:\\devtools\\venv-pos-ia\\Lib\\site-packages\\kedro\\ipython\\__init__.py#147\" target=\"_blank\"><span style=\"color: #7f7f7f; text-decoration-color: #7f7f7f\">147</span></a>\n",
       "<span style=\"color: #7fbfbf; text-decoration-color: #7fbfbf\">                    </span>         <span style=\"color: #008000; text-decoration-color: #008000\">'pipelines'</span>                                                            <span style=\"color: #7f7f7f; text-decoration-color: #7f7f7f\">               </span>\n",
       "</pre>\n"
      ]
     },
     "metadata": {},
     "output_type": "display_data"
    }
   ],
   "execution_count": 1
  },
  {
   "metadata": {},
   "cell_type": "code",
   "outputs": [],
   "execution_count": null,
   "source": [
    "import pandas as pd\n",
    "from sklearn.preprocessing import StandardScaler\n",
    "from sklearn.model_selection import train_test_split\n"
   ],
   "id": "34bf48b4a80f62d4"
  },
  {
   "metadata": {
    "ExecuteTime": {
     "end_time": "2025-03-30T21:00:12.126374Z",
     "start_time": "2025-03-30T21:00:11.684534Z"
    }
   },
   "cell_type": "code",
   "source": [
    "df_dev = catalog.load(\"dataset_kobe_dev\")\n",
    "df_dev.head()"
   ],
   "id": "initial_id",
   "outputs": [
    {
     "data": {
      "text/plain": [
       "\u001B[2;36m[03/30/25 18:00:11]\u001B[0m\u001B[2;36m \u001B[0m\u001B[34mINFO    \u001B[0m Loading data from \u001B[38;5;208mdataset_kobe_dev\u001B[0m \u001B[1m(\u001B[0mParquetDataset\u001B[1m)\u001B[0m\u001B[33m...\u001B[0m             \u001B]8;id=722079;file://D:\\devtools\\venv-pos-ia\\Lib\\site-packages\\kedro\\io\\data_catalog.py\u001B\\\u001B[2mdata_catalog.py\u001B[0m\u001B]8;;\u001B\\\u001B[2m:\u001B[0m\u001B]8;id=519800;file://D:\\devtools\\venv-pos-ia\\Lib\\site-packages\\kedro\\io\\data_catalog.py#390\u001B\\\u001B[2m390\u001B[0m\u001B]8;;\u001B\\\n"
      ],
      "text/html": [
       "<pre style=\"white-space:pre;overflow-x:auto;line-height:normal;font-family:Menlo,'DejaVu Sans Mono',consolas,'Courier New',monospace\"><span style=\"color: #7fbfbf; text-decoration-color: #7fbfbf\">[03/30/25 18:00:11] </span><span style=\"color: #000080; text-decoration-color: #000080\">INFO    </span> Loading data from <span style=\"color: #ff8700; text-decoration-color: #ff8700\">dataset_kobe_dev</span> <span style=\"font-weight: bold\">(</span>ParquetDataset<span style=\"font-weight: bold\">)</span><span style=\"color: #808000; text-decoration-color: #808000\">...</span>             <a href=\"file://D:\\devtools\\venv-pos-ia\\Lib\\site-packages\\kedro\\io\\data_catalog.py\" target=\"_blank\"><span style=\"color: #7f7f7f; text-decoration-color: #7f7f7f\">data_catalog.py</span></a><span style=\"color: #7f7f7f; text-decoration-color: #7f7f7f\">:</span><a href=\"file://D:\\devtools\\venv-pos-ia\\Lib\\site-packages\\kedro\\io\\data_catalog.py#390\" target=\"_blank\"><span style=\"color: #7f7f7f; text-decoration-color: #7f7f7f\">390</span></a>\n",
       "</pre>\n"
      ]
     },
     "metadata": {},
     "output_type": "display_data"
    },
    {
     "data": {
      "text/plain": [],
      "text/html": [
       "<pre style=\"white-space:pre;overflow-x:auto;line-height:normal;font-family:Menlo,'DejaVu Sans Mono',consolas,'Courier New',monospace\"></pre>\n"
      ]
     },
     "metadata": {},
     "output_type": "display_data"
    },
    {
     "data": {
      "text/plain": [
       "\n",
       "         action_type combined_shot_type  game_event_id   game_id      lat  \\\n",
       "\u001B[1;36m0\u001B[0m          Jump Shot          Jump Shot             \u001B[1;36m10\u001B[0m  \u001B[1;36m20000012\u001B[0m  \u001B[1;36m33.9723\u001B[0m   \n",
       "\u001B[1;36m1\u001B[0m          Jump Shot          Jump Shot             \u001B[1;36m12\u001B[0m  \u001B[1;36m20000012\u001B[0m  \u001B[1;36m34.0443\u001B[0m   \n",
       "\u001B[1;36m2\u001B[0m          Jump Shot          Jump Shot             \u001B[1;36m35\u001B[0m  \u001B[1;36m20000012\u001B[0m  \u001B[1;36m33.9093\u001B[0m   \n",
       "\u001B[1;36m3\u001B[0m          Jump Shot          Jump Shot             \u001B[1;36m43\u001B[0m  \u001B[1;36m20000012\u001B[0m  \u001B[1;36m33.8693\u001B[0m   \n",
       "\u001B[1;36m4\u001B[0m  Driving Dunk Shot               Dunk            \u001B[1;36m155\u001B[0m  \u001B[1;36m20000012\u001B[0m  \u001B[1;36m34.0443\u001B[0m   \n",
       "\n",
       "   loc_x  loc_y       lon  minutes_remaining  period  \u001B[33m...\u001B[0m       shot_type  \\\n",
       "\u001B[1;36m0\u001B[0m    \u001B[1;36m167\u001B[0m     \u001B[1;36m72\u001B[0m \u001B[1;36m-118.1028\u001B[0m                 \u001B[1;36m10\u001B[0m       \u001B[1;36m1\u001B[0m  \u001B[33m...\u001B[0m  2PT Field Goal   \n",
       "\u001B[1;36m1\u001B[0m   \u001B[1;36m-157\u001B[0m      \u001B[1;36m0\u001B[0m \u001B[1;36m-118.4268\u001B[0m                 \u001B[1;36m10\u001B[0m       \u001B[1;36m1\u001B[0m  \u001B[33m...\u001B[0m  2PT Field Goal   \n",
       "\u001B[1;36m2\u001B[0m   \u001B[1;36m-101\u001B[0m    \u001B[1;36m135\u001B[0m \u001B[1;36m-118.3708\u001B[0m                  \u001B[1;36m7\u001B[0m       \u001B[1;36m1\u001B[0m  \u001B[33m...\u001B[0m  2PT Field Goal   \n",
       "\u001B[1;36m3\u001B[0m    \u001B[1;36m138\u001B[0m    \u001B[1;36m175\u001B[0m \u001B[1;36m-118.1318\u001B[0m                  \u001B[1;36m6\u001B[0m       \u001B[1;36m1\u001B[0m  \u001B[33m...\u001B[0m  2PT Field Goal   \n",
       "\u001B[1;36m4\u001B[0m      \u001B[1;36m0\u001B[0m      \u001B[1;36m0\u001B[0m \u001B[1;36m-118.2698\u001B[0m                  \u001B[1;36m6\u001B[0m       \u001B[1;36m2\u001B[0m  \u001B[33m...\u001B[0m  2PT Field Goal   \n",
       "\n",
       "          shot_zone_area  shot_zone_basic  shot_zone_range     team_id  \\\n",
       "\u001B[1;36m0\u001B[0m          Right \u001B[1;35mSide\u001B[0m\u001B[1m(\u001B[0mR\u001B[1m)\u001B[0m        Mid-Range        \u001B[1;36m16\u001B[0m-\u001B[1;36m24\u001B[0m ft.  \u001B[1;36m1610612747\u001B[0m   \n",
       "\u001B[1;36m1\u001B[0m           Left \u001B[1;35mSide\u001B[0m\u001B[1m(\u001B[0mL\u001B[1m)\u001B[0m        Mid-Range         \u001B[1;36m8\u001B[0m-\u001B[1;36m16\u001B[0m ft.  \u001B[1;36m1610612747\u001B[0m   \n",
       "\u001B[1;36m2\u001B[0m   Left Side \u001B[1;35mCenter\u001B[0m\u001B[1m(\u001B[0mLC\u001B[1m)\u001B[0m        Mid-Range        \u001B[1;36m16\u001B[0m-\u001B[1;36m24\u001B[0m ft.  \u001B[1;36m1610612747\u001B[0m   \n",
       "\u001B[1;36m3\u001B[0m  Right Side \u001B[1;35mCenter\u001B[0m\u001B[1m(\u001B[0mRC\u001B[1m)\u001B[0m        Mid-Range        \u001B[1;36m16\u001B[0m-\u001B[1;36m24\u001B[0m ft.  \u001B[1;36m1610612747\u001B[0m   \n",
       "\u001B[1;36m4\u001B[0m              \u001B[1;35mCenter\u001B[0m\u001B[1m(\u001B[0mC\u001B[1m)\u001B[0m  Restricted Area  Less Than \u001B[1;36m8\u001B[0m ft.  \u001B[1;36m1610612747\u001B[0m   \n",
       "\n",
       "            team_name   game_date    matchup opponent  shot_id  \n",
       "\u001B[1;36m0\u001B[0m  Los Angeles Lakers  \u001B[1;36m2000\u001B[0m-\u001B[1;36m10\u001B[0m-\u001B[1;36m31\u001B[0m  LAL @ POR      POR        \u001B[1;36m1\u001B[0m  \n",
       "\u001B[1;36m1\u001B[0m  Los Angeles Lakers  \u001B[1;36m2000\u001B[0m-\u001B[1;36m10\u001B[0m-\u001B[1;36m31\u001B[0m  LAL @ POR      POR        \u001B[1;36m2\u001B[0m  \n",
       "\u001B[1;36m2\u001B[0m  Los Angeles Lakers  \u001B[1;36m2000\u001B[0m-\u001B[1;36m10\u001B[0m-\u001B[1;36m31\u001B[0m  LAL @ POR      POR        \u001B[1;36m3\u001B[0m  \n",
       "\u001B[1;36m3\u001B[0m  Los Angeles Lakers  \u001B[1;36m2000\u001B[0m-\u001B[1;36m10\u001B[0m-\u001B[1;36m31\u001B[0m  LAL @ POR      POR        \u001B[1;36m4\u001B[0m  \n",
       "\u001B[1;36m4\u001B[0m  Los Angeles Lakers  \u001B[1;36m2000\u001B[0m-\u001B[1;36m10\u001B[0m-\u001B[1;36m31\u001B[0m  LAL @ POR      POR        \u001B[1;36m5\u001B[0m  \n",
       "\n",
       "\u001B[1m[\u001B[0m\u001B[1;36m5\u001B[0m rows x \u001B[1;36m25\u001B[0m columns\u001B[1m]\u001B[0m"
      ],
      "text/html": [
       "<div>\n",
       "<style scoped>\n",
       "    .dataframe tbody tr th:only-of-type {\n",
       "        vertical-align: middle;\n",
       "    }\n",
       "\n",
       "    .dataframe tbody tr th {\n",
       "        vertical-align: top;\n",
       "    }\n",
       "\n",
       "    .dataframe thead th {\n",
       "        text-align: right;\n",
       "    }\n",
       "</style>\n",
       "<table border=\"1\" class=\"dataframe\">\n",
       "  <thead>\n",
       "    <tr style=\"text-align: right;\">\n",
       "      <th></th>\n",
       "      <th>action_type</th>\n",
       "      <th>combined_shot_type</th>\n",
       "      <th>game_event_id</th>\n",
       "      <th>game_id</th>\n",
       "      <th>lat</th>\n",
       "      <th>loc_x</th>\n",
       "      <th>loc_y</th>\n",
       "      <th>lon</th>\n",
       "      <th>minutes_remaining</th>\n",
       "      <th>period</th>\n",
       "      <th>...</th>\n",
       "      <th>shot_type</th>\n",
       "      <th>shot_zone_area</th>\n",
       "      <th>shot_zone_basic</th>\n",
       "      <th>shot_zone_range</th>\n",
       "      <th>team_id</th>\n",
       "      <th>team_name</th>\n",
       "      <th>game_date</th>\n",
       "      <th>matchup</th>\n",
       "      <th>opponent</th>\n",
       "      <th>shot_id</th>\n",
       "    </tr>\n",
       "  </thead>\n",
       "  <tbody>\n",
       "    <tr>\n",
       "      <th>0</th>\n",
       "      <td>Jump Shot</td>\n",
       "      <td>Jump Shot</td>\n",
       "      <td>10</td>\n",
       "      <td>20000012</td>\n",
       "      <td>33.9723</td>\n",
       "      <td>167</td>\n",
       "      <td>72</td>\n",
       "      <td>-118.1028</td>\n",
       "      <td>10</td>\n",
       "      <td>1</td>\n",
       "      <td>...</td>\n",
       "      <td>2PT Field Goal</td>\n",
       "      <td>Right Side(R)</td>\n",
       "      <td>Mid-Range</td>\n",
       "      <td>16-24 ft.</td>\n",
       "      <td>1610612747</td>\n",
       "      <td>Los Angeles Lakers</td>\n",
       "      <td>2000-10-31</td>\n",
       "      <td>LAL @ POR</td>\n",
       "      <td>POR</td>\n",
       "      <td>1</td>\n",
       "    </tr>\n",
       "    <tr>\n",
       "      <th>1</th>\n",
       "      <td>Jump Shot</td>\n",
       "      <td>Jump Shot</td>\n",
       "      <td>12</td>\n",
       "      <td>20000012</td>\n",
       "      <td>34.0443</td>\n",
       "      <td>-157</td>\n",
       "      <td>0</td>\n",
       "      <td>-118.4268</td>\n",
       "      <td>10</td>\n",
       "      <td>1</td>\n",
       "      <td>...</td>\n",
       "      <td>2PT Field Goal</td>\n",
       "      <td>Left Side(L)</td>\n",
       "      <td>Mid-Range</td>\n",
       "      <td>8-16 ft.</td>\n",
       "      <td>1610612747</td>\n",
       "      <td>Los Angeles Lakers</td>\n",
       "      <td>2000-10-31</td>\n",
       "      <td>LAL @ POR</td>\n",
       "      <td>POR</td>\n",
       "      <td>2</td>\n",
       "    </tr>\n",
       "    <tr>\n",
       "      <th>2</th>\n",
       "      <td>Jump Shot</td>\n",
       "      <td>Jump Shot</td>\n",
       "      <td>35</td>\n",
       "      <td>20000012</td>\n",
       "      <td>33.9093</td>\n",
       "      <td>-101</td>\n",
       "      <td>135</td>\n",
       "      <td>-118.3708</td>\n",
       "      <td>7</td>\n",
       "      <td>1</td>\n",
       "      <td>...</td>\n",
       "      <td>2PT Field Goal</td>\n",
       "      <td>Left Side Center(LC)</td>\n",
       "      <td>Mid-Range</td>\n",
       "      <td>16-24 ft.</td>\n",
       "      <td>1610612747</td>\n",
       "      <td>Los Angeles Lakers</td>\n",
       "      <td>2000-10-31</td>\n",
       "      <td>LAL @ POR</td>\n",
       "      <td>POR</td>\n",
       "      <td>3</td>\n",
       "    </tr>\n",
       "    <tr>\n",
       "      <th>3</th>\n",
       "      <td>Jump Shot</td>\n",
       "      <td>Jump Shot</td>\n",
       "      <td>43</td>\n",
       "      <td>20000012</td>\n",
       "      <td>33.8693</td>\n",
       "      <td>138</td>\n",
       "      <td>175</td>\n",
       "      <td>-118.1318</td>\n",
       "      <td>6</td>\n",
       "      <td>1</td>\n",
       "      <td>...</td>\n",
       "      <td>2PT Field Goal</td>\n",
       "      <td>Right Side Center(RC)</td>\n",
       "      <td>Mid-Range</td>\n",
       "      <td>16-24 ft.</td>\n",
       "      <td>1610612747</td>\n",
       "      <td>Los Angeles Lakers</td>\n",
       "      <td>2000-10-31</td>\n",
       "      <td>LAL @ POR</td>\n",
       "      <td>POR</td>\n",
       "      <td>4</td>\n",
       "    </tr>\n",
       "    <tr>\n",
       "      <th>4</th>\n",
       "      <td>Driving Dunk Shot</td>\n",
       "      <td>Dunk</td>\n",
       "      <td>155</td>\n",
       "      <td>20000012</td>\n",
       "      <td>34.0443</td>\n",
       "      <td>0</td>\n",
       "      <td>0</td>\n",
       "      <td>-118.2698</td>\n",
       "      <td>6</td>\n",
       "      <td>2</td>\n",
       "      <td>...</td>\n",
       "      <td>2PT Field Goal</td>\n",
       "      <td>Center(C)</td>\n",
       "      <td>Restricted Area</td>\n",
       "      <td>Less Than 8 ft.</td>\n",
       "      <td>1610612747</td>\n",
       "      <td>Los Angeles Lakers</td>\n",
       "      <td>2000-10-31</td>\n",
       "      <td>LAL @ POR</td>\n",
       "      <td>POR</td>\n",
       "      <td>5</td>\n",
       "    </tr>\n",
       "  </tbody>\n",
       "</table>\n",
       "<p>5 rows × 25 columns</p>\n",
       "</div>"
      ]
     },
     "execution_count": 2,
     "metadata": {},
     "output_type": "execute_result"
    }
   ],
   "execution_count": 2
  },
  {
   "metadata": {
    "ExecuteTime": {
     "end_time": "2025-03-30T21:00:38.949158Z",
     "start_time": "2025-03-30T21:00:38.944027Z"
    }
   },
   "cell_type": "code",
   "source": [
    "# Selecionar colunas\n",
    "columns_to_keep = [\"lat\", \"lon\", \"minutes_remaining\", \"period\", \"playoffs\", \"shot_distance\", \"shot_made_flag\"]\n",
    "df = df_dev[columns_to_keep]"
   ],
   "id": "4fb04443f1edec6d",
   "outputs": [],
   "execution_count": 4
  },
  {
   "metadata": {
    "ExecuteTime": {
     "end_time": "2025-03-30T21:00:40.797367Z",
     "start_time": "2025-03-30T21:00:40.786650Z"
    }
   },
   "cell_type": "code",
   "source": [
    "# Remover linhas com valores faltantes\n",
    "df = df.dropna()\n",
    "df.head(10)"
   ],
   "id": "be07df237dc0b86a",
   "outputs": [
    {
     "data": {
      "text/plain": [],
      "text/html": [
       "<pre style=\"white-space:pre;overflow-x:auto;line-height:normal;font-family:Menlo,'DejaVu Sans Mono',consolas,'Courier New',monospace\"></pre>\n"
      ]
     },
     "metadata": {},
     "output_type": "display_data"
    },
    {
     "data": {
      "text/plain": [
       "\n",
       "        lat       lon  minutes_remaining  period  playoffs  shot_distance  \\\n",
       "\u001B[1;36m1\u001B[0m   \u001B[1;36m34.0443\u001B[0m \u001B[1;36m-118.4268\u001B[0m                 \u001B[1;36m10\u001B[0m       \u001B[1;36m1\u001B[0m         \u001B[1;36m0\u001B[0m             \u001B[1;36m15\u001B[0m   \n",
       "\u001B[1;36m2\u001B[0m   \u001B[1;36m33.9093\u001B[0m \u001B[1;36m-118.3708\u001B[0m                  \u001B[1;36m7\u001B[0m       \u001B[1;36m1\u001B[0m         \u001B[1;36m0\u001B[0m             \u001B[1;36m16\u001B[0m   \n",
       "\u001B[1;36m3\u001B[0m   \u001B[1;36m33.8693\u001B[0m \u001B[1;36m-118.1318\u001B[0m                  \u001B[1;36m6\u001B[0m       \u001B[1;36m1\u001B[0m         \u001B[1;36m0\u001B[0m             \u001B[1;36m22\u001B[0m   \n",
       "\u001B[1;36m4\u001B[0m   \u001B[1;36m34.0443\u001B[0m \u001B[1;36m-118.2698\u001B[0m                  \u001B[1;36m6\u001B[0m       \u001B[1;36m2\u001B[0m         \u001B[1;36m0\u001B[0m              \u001B[1;36m0\u001B[0m   \n",
       "\u001B[1;36m5\u001B[0m   \u001B[1;36m34.0553\u001B[0m \u001B[1;36m-118.4148\u001B[0m                  \u001B[1;36m9\u001B[0m       \u001B[1;36m3\u001B[0m         \u001B[1;36m0\u001B[0m             \u001B[1;36m14\u001B[0m   \n",
       "\u001B[1;36m6\u001B[0m   \u001B[1;36m34.0443\u001B[0m \u001B[1;36m-118.2698\u001B[0m                  \u001B[1;36m8\u001B[0m       \u001B[1;36m3\u001B[0m         \u001B[1;36m0\u001B[0m              \u001B[1;36m0\u001B[0m   \n",
       "\u001B[1;36m8\u001B[0m   \u001B[1;36m33.9363\u001B[0m \u001B[1;36m-118.3348\u001B[0m                  \u001B[1;36m6\u001B[0m       \u001B[1;36m3\u001B[0m         \u001B[1;36m0\u001B[0m             \u001B[1;36m12\u001B[0m   \n",
       "\u001B[1;36m9\u001B[0m   \u001B[1;36m33.9193\u001B[0m \u001B[1;36m-118.3028\u001B[0m                  \u001B[1;36m3\u001B[0m       \u001B[1;36m3\u001B[0m         \u001B[1;36m0\u001B[0m             \u001B[1;36m12\u001B[0m   \n",
       "\u001B[1;36m11\u001B[0m  \u001B[1;36m33.9173\u001B[0m \u001B[1;36m-118.1488\u001B[0m                 \u001B[1;36m11\u001B[0m       \u001B[1;36m1\u001B[0m         \u001B[1;36m0\u001B[0m             \u001B[1;36m17\u001B[0m   \n",
       "\u001B[1;36m12\u001B[0m  \u001B[1;36m33.9343\u001B[0m \u001B[1;36m-118.3368\u001B[0m                  \u001B[1;36m7\u001B[0m       \u001B[1;36m1\u001B[0m         \u001B[1;36m0\u001B[0m             \u001B[1;36m12\u001B[0m   \n",
       "\n",
       "    shot_made_flag  \n",
       "\u001B[1;36m1\u001B[0m              \u001B[1;36m0.0\u001B[0m  \n",
       "\u001B[1;36m2\u001B[0m              \u001B[1;36m1.0\u001B[0m  \n",
       "\u001B[1;36m3\u001B[0m              \u001B[1;36m0.0\u001B[0m  \n",
       "\u001B[1;36m4\u001B[0m              \u001B[1;36m1.0\u001B[0m  \n",
       "\u001B[1;36m5\u001B[0m              \u001B[1;36m0.0\u001B[0m  \n",
       "\u001B[1;36m6\u001B[0m              \u001B[1;36m1.0\u001B[0m  \n",
       "\u001B[1;36m8\u001B[0m              \u001B[1;36m1.0\u001B[0m  \n",
       "\u001B[1;36m9\u001B[0m              \u001B[1;36m0.0\u001B[0m  \n",
       "\u001B[1;36m11\u001B[0m             \u001B[1;36m1.0\u001B[0m  \n",
       "\u001B[1;36m12\u001B[0m             \u001B[1;36m1.0\u001B[0m  "
      ],
      "text/html": [
       "<div>\n",
       "<style scoped>\n",
       "    .dataframe tbody tr th:only-of-type {\n",
       "        vertical-align: middle;\n",
       "    }\n",
       "\n",
       "    .dataframe tbody tr th {\n",
       "        vertical-align: top;\n",
       "    }\n",
       "\n",
       "    .dataframe thead th {\n",
       "        text-align: right;\n",
       "    }\n",
       "</style>\n",
       "<table border=\"1\" class=\"dataframe\">\n",
       "  <thead>\n",
       "    <tr style=\"text-align: right;\">\n",
       "      <th></th>\n",
       "      <th>lat</th>\n",
       "      <th>lon</th>\n",
       "      <th>minutes_remaining</th>\n",
       "      <th>period</th>\n",
       "      <th>playoffs</th>\n",
       "      <th>shot_distance</th>\n",
       "      <th>shot_made_flag</th>\n",
       "    </tr>\n",
       "  </thead>\n",
       "  <tbody>\n",
       "    <tr>\n",
       "      <th>1</th>\n",
       "      <td>34.0443</td>\n",
       "      <td>-118.4268</td>\n",
       "      <td>10</td>\n",
       "      <td>1</td>\n",
       "      <td>0</td>\n",
       "      <td>15</td>\n",
       "      <td>0.0</td>\n",
       "    </tr>\n",
       "    <tr>\n",
       "      <th>2</th>\n",
       "      <td>33.9093</td>\n",
       "      <td>-118.3708</td>\n",
       "      <td>7</td>\n",
       "      <td>1</td>\n",
       "      <td>0</td>\n",
       "      <td>16</td>\n",
       "      <td>1.0</td>\n",
       "    </tr>\n",
       "    <tr>\n",
       "      <th>3</th>\n",
       "      <td>33.8693</td>\n",
       "      <td>-118.1318</td>\n",
       "      <td>6</td>\n",
       "      <td>1</td>\n",
       "      <td>0</td>\n",
       "      <td>22</td>\n",
       "      <td>0.0</td>\n",
       "    </tr>\n",
       "    <tr>\n",
       "      <th>4</th>\n",
       "      <td>34.0443</td>\n",
       "      <td>-118.2698</td>\n",
       "      <td>6</td>\n",
       "      <td>2</td>\n",
       "      <td>0</td>\n",
       "      <td>0</td>\n",
       "      <td>1.0</td>\n",
       "    </tr>\n",
       "    <tr>\n",
       "      <th>5</th>\n",
       "      <td>34.0553</td>\n",
       "      <td>-118.4148</td>\n",
       "      <td>9</td>\n",
       "      <td>3</td>\n",
       "      <td>0</td>\n",
       "      <td>14</td>\n",
       "      <td>0.0</td>\n",
       "    </tr>\n",
       "    <tr>\n",
       "      <th>6</th>\n",
       "      <td>34.0443</td>\n",
       "      <td>-118.2698</td>\n",
       "      <td>8</td>\n",
       "      <td>3</td>\n",
       "      <td>0</td>\n",
       "      <td>0</td>\n",
       "      <td>1.0</td>\n",
       "    </tr>\n",
       "    <tr>\n",
       "      <th>8</th>\n",
       "      <td>33.9363</td>\n",
       "      <td>-118.3348</td>\n",
       "      <td>6</td>\n",
       "      <td>3</td>\n",
       "      <td>0</td>\n",
       "      <td>12</td>\n",
       "      <td>1.0</td>\n",
       "    </tr>\n",
       "    <tr>\n",
       "      <th>9</th>\n",
       "      <td>33.9193</td>\n",
       "      <td>-118.3028</td>\n",
       "      <td>3</td>\n",
       "      <td>3</td>\n",
       "      <td>0</td>\n",
       "      <td>12</td>\n",
       "      <td>0.0</td>\n",
       "    </tr>\n",
       "    <tr>\n",
       "      <th>11</th>\n",
       "      <td>33.9173</td>\n",
       "      <td>-118.1488</td>\n",
       "      <td>11</td>\n",
       "      <td>1</td>\n",
       "      <td>0</td>\n",
       "      <td>17</td>\n",
       "      <td>1.0</td>\n",
       "    </tr>\n",
       "    <tr>\n",
       "      <th>12</th>\n",
       "      <td>33.9343</td>\n",
       "      <td>-118.3368</td>\n",
       "      <td>7</td>\n",
       "      <td>1</td>\n",
       "      <td>0</td>\n",
       "      <td>12</td>\n",
       "      <td>1.0</td>\n",
       "    </tr>\n",
       "  </tbody>\n",
       "</table>\n",
       "</div>"
      ]
     },
     "execution_count": 5,
     "metadata": {},
     "output_type": "execute_result"
    }
   ],
   "execution_count": 5
  },
  {
   "metadata": {
    "ExecuteTime": {
     "end_time": "2025-03-30T21:00:51.890197Z",
     "start_time": "2025-03-30T21:00:51.876240Z"
    }
   },
   "cell_type": "code",
   "source": [
    "scaler = StandardScaler()\n",
    "df[[\"lat\", \"lon\", \"minutes_remaining\", \"period\", \"playoffs\", \"shot_distance\"]] = scaler.fit_transform(\n",
    "    df[[\"lat\", \"lon\", \"minutes_remaining\", \"period\", \"playoffs\", \"shot_distance\"]]\n",
    ")\n",
    "df.head(10)"
   ],
   "id": "a7a6d42de9498cbf",
   "outputs": [
    {
     "data": {
      "text/plain": [],
      "text/html": [
       "<pre style=\"white-space:pre;overflow-x:auto;line-height:normal;font-family:Menlo,'DejaVu Sans Mono',consolas,'Courier New',monospace\"></pre>\n"
      ]
     },
     "metadata": {},
     "output_type": "display_data"
    },
    {
     "data": {
      "text/plain": [
       "\n",
       "         lat       lon  minutes_remaining    period  playoffs  shot_distance  \\\n",
       "\u001B[1;36m1\u001B[0m   \u001B[1;36m0.966036\u001B[0m \u001B[1;36m-1.761147\u001B[0m           \u001B[1;36m1.431116\u001B[0m \u001B[1;36m-1.282025\u001B[0m \u001B[1;36m-0.417991\u001B[0m       \u001B[1;36m0.632816\u001B[0m   \n",
       "\u001B[1;36m2\u001B[0m  \u001B[1;36m-1.082742\u001B[0m \u001B[1;36m-1.161570\u001B[0m           \u001B[1;36m0.554892\u001B[0m \u001B[1;36m-1.282025\u001B[0m \u001B[1;36m-0.417991\u001B[0m       \u001B[1;36m0.765102\u001B[0m   \n",
       "\u001B[1;36m3\u001B[0m  \u001B[1;36m-1.689787\u001B[0m  \u001B[1;36m1.397338\u001B[0m           \u001B[1;36m0.262817\u001B[0m \u001B[1;36m-1.282025\u001B[0m \u001B[1;36m-0.417991\u001B[0m       \u001B[1;36m1.558820\u001B[0m   \n",
       "\u001B[1;36m4\u001B[0m   \u001B[1;36m0.966036\u001B[0m \u001B[1;36m-0.080190\u001B[0m           \u001B[1;36m0.262817\u001B[0m \u001B[1;36m-0.411069\u001B[0m \u001B[1;36m-0.417991\u001B[0m      \u001B[1;36m-1.351479\u001B[0m   \n",
       "\u001B[1;36m5\u001B[0m   \u001B[1;36m1.132974\u001B[0m \u001B[1;36m-1.632666\u001B[0m           \u001B[1;36m1.139041\u001B[0m  \u001B[1;36m0.459887\u001B[0m \u001B[1;36m-0.417991\u001B[0m       \u001B[1;36m0.500529\u001B[0m   \n",
       "\u001B[1;36m6\u001B[0m   \u001B[1;36m0.966036\u001B[0m \u001B[1;36m-0.080190\u001B[0m           \u001B[1;36m0.846966\u001B[0m  \u001B[1;36m0.459887\u001B[0m \u001B[1;36m-0.417991\u001B[0m      \u001B[1;36m-1.351479\u001B[0m   \n",
       "\u001B[1;36m8\u001B[0m  \u001B[1;36m-0.672986\u001B[0m \u001B[1;36m-0.776128\u001B[0m           \u001B[1;36m0.262817\u001B[0m  \u001B[1;36m0.459887\u001B[0m \u001B[1;36m-0.417991\u001B[0m       \u001B[1;36m0.235957\u001B[0m   \n",
       "\u001B[1;36m9\u001B[0m  \u001B[1;36m-0.930981\u001B[0m \u001B[1;36m-0.433513\u001B[0m          \u001B[1;36m-0.613407\u001B[0m  \u001B[1;36m0.459887\u001B[0m \u001B[1;36m-0.417991\u001B[0m       \u001B[1;36m0.235957\u001B[0m   \n",
       "\u001B[1;36m11\u001B[0m \u001B[1;36m-0.961333\u001B[0m  \u001B[1;36m1.215324\u001B[0m           \u001B[1;36m1.723190\u001B[0m \u001B[1;36m-1.282025\u001B[0m \u001B[1;36m-0.417991\u001B[0m       \u001B[1;36m0.897388\u001B[0m   \n",
       "\u001B[1;36m12\u001B[0m \u001B[1;36m-0.703339\u001B[0m \u001B[1;36m-0.797541\u001B[0m           \u001B[1;36m0.554892\u001B[0m \u001B[1;36m-1.282025\u001B[0m \u001B[1;36m-0.417991\u001B[0m       \u001B[1;36m0.235957\u001B[0m   \n",
       "\n",
       "    shot_made_flag  \n",
       "\u001B[1;36m1\u001B[0m              \u001B[1;36m0.0\u001B[0m  \n",
       "\u001B[1;36m2\u001B[0m              \u001B[1;36m1.0\u001B[0m  \n",
       "\u001B[1;36m3\u001B[0m              \u001B[1;36m0.0\u001B[0m  \n",
       "\u001B[1;36m4\u001B[0m              \u001B[1;36m1.0\u001B[0m  \n",
       "\u001B[1;36m5\u001B[0m              \u001B[1;36m0.0\u001B[0m  \n",
       "\u001B[1;36m6\u001B[0m              \u001B[1;36m1.0\u001B[0m  \n",
       "\u001B[1;36m8\u001B[0m              \u001B[1;36m1.0\u001B[0m  \n",
       "\u001B[1;36m9\u001B[0m              \u001B[1;36m0.0\u001B[0m  \n",
       "\u001B[1;36m11\u001B[0m             \u001B[1;36m1.0\u001B[0m  \n",
       "\u001B[1;36m12\u001B[0m             \u001B[1;36m1.0\u001B[0m  "
      ],
      "text/html": [
       "<div>\n",
       "<style scoped>\n",
       "    .dataframe tbody tr th:only-of-type {\n",
       "        vertical-align: middle;\n",
       "    }\n",
       "\n",
       "    .dataframe tbody tr th {\n",
       "        vertical-align: top;\n",
       "    }\n",
       "\n",
       "    .dataframe thead th {\n",
       "        text-align: right;\n",
       "    }\n",
       "</style>\n",
       "<table border=\"1\" class=\"dataframe\">\n",
       "  <thead>\n",
       "    <tr style=\"text-align: right;\">\n",
       "      <th></th>\n",
       "      <th>lat</th>\n",
       "      <th>lon</th>\n",
       "      <th>minutes_remaining</th>\n",
       "      <th>period</th>\n",
       "      <th>playoffs</th>\n",
       "      <th>shot_distance</th>\n",
       "      <th>shot_made_flag</th>\n",
       "    </tr>\n",
       "  </thead>\n",
       "  <tbody>\n",
       "    <tr>\n",
       "      <th>1</th>\n",
       "      <td>0.966036</td>\n",
       "      <td>-1.761147</td>\n",
       "      <td>1.431116</td>\n",
       "      <td>-1.282025</td>\n",
       "      <td>-0.417991</td>\n",
       "      <td>0.632816</td>\n",
       "      <td>0.0</td>\n",
       "    </tr>\n",
       "    <tr>\n",
       "      <th>2</th>\n",
       "      <td>-1.082742</td>\n",
       "      <td>-1.161570</td>\n",
       "      <td>0.554892</td>\n",
       "      <td>-1.282025</td>\n",
       "      <td>-0.417991</td>\n",
       "      <td>0.765102</td>\n",
       "      <td>1.0</td>\n",
       "    </tr>\n",
       "    <tr>\n",
       "      <th>3</th>\n",
       "      <td>-1.689787</td>\n",
       "      <td>1.397338</td>\n",
       "      <td>0.262817</td>\n",
       "      <td>-1.282025</td>\n",
       "      <td>-0.417991</td>\n",
       "      <td>1.558820</td>\n",
       "      <td>0.0</td>\n",
       "    </tr>\n",
       "    <tr>\n",
       "      <th>4</th>\n",
       "      <td>0.966036</td>\n",
       "      <td>-0.080190</td>\n",
       "      <td>0.262817</td>\n",
       "      <td>-0.411069</td>\n",
       "      <td>-0.417991</td>\n",
       "      <td>-1.351479</td>\n",
       "      <td>1.0</td>\n",
       "    </tr>\n",
       "    <tr>\n",
       "      <th>5</th>\n",
       "      <td>1.132974</td>\n",
       "      <td>-1.632666</td>\n",
       "      <td>1.139041</td>\n",
       "      <td>0.459887</td>\n",
       "      <td>-0.417991</td>\n",
       "      <td>0.500529</td>\n",
       "      <td>0.0</td>\n",
       "    </tr>\n",
       "    <tr>\n",
       "      <th>6</th>\n",
       "      <td>0.966036</td>\n",
       "      <td>-0.080190</td>\n",
       "      <td>0.846966</td>\n",
       "      <td>0.459887</td>\n",
       "      <td>-0.417991</td>\n",
       "      <td>-1.351479</td>\n",
       "      <td>1.0</td>\n",
       "    </tr>\n",
       "    <tr>\n",
       "      <th>8</th>\n",
       "      <td>-0.672986</td>\n",
       "      <td>-0.776128</td>\n",
       "      <td>0.262817</td>\n",
       "      <td>0.459887</td>\n",
       "      <td>-0.417991</td>\n",
       "      <td>0.235957</td>\n",
       "      <td>1.0</td>\n",
       "    </tr>\n",
       "    <tr>\n",
       "      <th>9</th>\n",
       "      <td>-0.930981</td>\n",
       "      <td>-0.433513</td>\n",
       "      <td>-0.613407</td>\n",
       "      <td>0.459887</td>\n",
       "      <td>-0.417991</td>\n",
       "      <td>0.235957</td>\n",
       "      <td>0.0</td>\n",
       "    </tr>\n",
       "    <tr>\n",
       "      <th>11</th>\n",
       "      <td>-0.961333</td>\n",
       "      <td>1.215324</td>\n",
       "      <td>1.723190</td>\n",
       "      <td>-1.282025</td>\n",
       "      <td>-0.417991</td>\n",
       "      <td>0.897388</td>\n",
       "      <td>1.0</td>\n",
       "    </tr>\n",
       "    <tr>\n",
       "      <th>12</th>\n",
       "      <td>-0.703339</td>\n",
       "      <td>-0.797541</td>\n",
       "      <td>0.554892</td>\n",
       "      <td>-1.282025</td>\n",
       "      <td>-0.417991</td>\n",
       "      <td>0.235957</td>\n",
       "      <td>1.0</td>\n",
       "    </tr>\n",
       "  </tbody>\n",
       "</table>\n",
       "</div>"
      ]
     },
     "execution_count": 6,
     "metadata": {},
     "output_type": "execute_result"
    }
   ],
   "execution_count": 6
  },
  {
   "metadata": {
    "ExecuteTime": {
     "end_time": "2025-03-30T21:00:56.300961Z",
     "start_time": "2025-03-30T21:00:56.297950Z"
    }
   },
   "cell_type": "code",
   "source": [
    "# Dimensão do dataset após limpeza\n",
    "print(\"Dimensão do dataset após limpeza: \",df.shape)"
   ],
   "id": "8871498faebfcec8",
   "outputs": [
    {
     "name": "stdout",
     "output_type": "stream",
     "text": [
      "Dimensão do dataset após limpeza:  (20285, 7)\n"
     ]
    }
   ],
   "execution_count": 7
  },
  {
   "metadata": {
    "ExecuteTime": {
     "end_time": "2025-03-30T21:01:07.957803Z",
     "start_time": "2025-03-30T21:01:07.944883Z"
    }
   },
   "cell_type": "code",
   "source": "catalog.save(\"data_filtered\", df)",
   "id": "ed02aba3b0c910d9",
   "outputs": [
    {
     "data": {
      "text/plain": [
       "\u001B[2;36m[03/30/25 18:01:07]\u001B[0m\u001B[2;36m \u001B[0m\u001B[34mINFO    \u001B[0m Saving data to \u001B[38;5;208mdata_filtered\u001B[0m \u001B[1m(\u001B[0mParquetDataset\u001B[1m)\u001B[0m\u001B[33m...\u001B[0m                   \u001B]8;id=255246;file://D:\\devtools\\venv-pos-ia\\Lib\\site-packages\\kedro\\io\\data_catalog.py\u001B\\\u001B[2mdata_catalog.py\u001B[0m\u001B]8;;\u001B\\\u001B[2m:\u001B[0m\u001B]8;id=561178;file://D:\\devtools\\venv-pos-ia\\Lib\\site-packages\\kedro\\io\\data_catalog.py#432\u001B\\\u001B[2m432\u001B[0m\u001B]8;;\u001B\\\n"
      ],
      "text/html": [
       "<pre style=\"white-space:pre;overflow-x:auto;line-height:normal;font-family:Menlo,'DejaVu Sans Mono',consolas,'Courier New',monospace\"><span style=\"color: #7fbfbf; text-decoration-color: #7fbfbf\">[03/30/25 18:01:07] </span><span style=\"color: #000080; text-decoration-color: #000080\">INFO    </span> Saving data to <span style=\"color: #ff8700; text-decoration-color: #ff8700\">data_filtered</span> <span style=\"font-weight: bold\">(</span>ParquetDataset<span style=\"font-weight: bold\">)</span><span style=\"color: #808000; text-decoration-color: #808000\">...</span>                   <a href=\"file://D:\\devtools\\venv-pos-ia\\Lib\\site-packages\\kedro\\io\\data_catalog.py\" target=\"_blank\"><span style=\"color: #7f7f7f; text-decoration-color: #7f7f7f\">data_catalog.py</span></a><span style=\"color: #7f7f7f; text-decoration-color: #7f7f7f\">:</span><a href=\"file://D:\\devtools\\venv-pos-ia\\Lib\\site-packages\\kedro\\io\\data_catalog.py#432\" target=\"_blank\"><span style=\"color: #7f7f7f; text-decoration-color: #7f7f7f\">432</span></a>\n",
       "</pre>\n"
      ]
     },
     "metadata": {},
     "output_type": "display_data"
    }
   ],
   "execution_count": 8
  },
  {
   "metadata": {
    "ExecuteTime": {
     "end_time": "2025-03-30T21:01:11.300109Z",
     "start_time": "2025-03-30T21:01:11.292977Z"
    }
   },
   "cell_type": "code",
   "source": [
    "# Separação treino e teste (estratificada)\n",
    "train_df, test_df = train_test_split(df, test_size=0.2, stratify=df[\"shot_made_flag\"], random_state=42)\n"
   ],
   "id": "a6986f571e2e028a",
   "outputs": [],
   "execution_count": 9
  },
  {
   "metadata": {
    "ExecuteTime": {
     "end_time": "2025-03-30T21:01:13.537199Z",
     "start_time": "2025-03-30T21:01:13.534354Z"
    }
   },
   "cell_type": "code",
   "source": [
    "# Tamanhos das bases\n",
    "print(\"Tamanho da base de treino: \",train_df.shape[0])"
   ],
   "id": "ab78d149dc901ae7",
   "outputs": [
    {
     "name": "stdout",
     "output_type": "stream",
     "text": [
      "Tamanho da base de treino:  16228\n"
     ]
    }
   ],
   "execution_count": 10
  },
  {
   "metadata": {
    "ExecuteTime": {
     "end_time": "2025-03-30T21:01:15.782885Z",
     "start_time": "2025-03-30T21:01:15.779685Z"
    }
   },
   "cell_type": "code",
   "source": "print(\"Tamanho da base de teste: \",test_df.shape[0])",
   "id": "d9a5706a674f19c5",
   "outputs": [
    {
     "name": "stdout",
     "output_type": "stream",
     "text": [
      "Tamanho da base de teste:  4057\n"
     ]
    }
   ],
   "execution_count": 11
  },
  {
   "metadata": {
    "ExecuteTime": {
     "end_time": "2025-03-30T21:01:19.701294Z",
     "start_time": "2025-03-30T21:01:19.683881Z"
    }
   },
   "cell_type": "code",
   "source": [
    "catalog.save(\"base_train\", train_df)\n",
    "catalog.save(\"base_test\", test_df)"
   ],
   "id": "1ce3e180cebfd299",
   "outputs": [
    {
     "data": {
      "text/plain": [
       "\u001B[2;36m[03/30/25 18:01:19]\u001B[0m\u001B[2;36m \u001B[0m\u001B[34mINFO    \u001B[0m Saving data to \u001B[38;5;208mbase_train\u001B[0m \u001B[1m(\u001B[0mParquetDataset\u001B[1m)\u001B[0m\u001B[33m...\u001B[0m                      \u001B]8;id=490917;file://D:\\devtools\\venv-pos-ia\\Lib\\site-packages\\kedro\\io\\data_catalog.py\u001B\\\u001B[2mdata_catalog.py\u001B[0m\u001B]8;;\u001B\\\u001B[2m:\u001B[0m\u001B]8;id=478868;file://D:\\devtools\\venv-pos-ia\\Lib\\site-packages\\kedro\\io\\data_catalog.py#432\u001B\\\u001B[2m432\u001B[0m\u001B]8;;\u001B\\\n"
      ],
      "text/html": [
       "<pre style=\"white-space:pre;overflow-x:auto;line-height:normal;font-family:Menlo,'DejaVu Sans Mono',consolas,'Courier New',monospace\"><span style=\"color: #7fbfbf; text-decoration-color: #7fbfbf\">[03/30/25 18:01:19] </span><span style=\"color: #000080; text-decoration-color: #000080\">INFO    </span> Saving data to <span style=\"color: #ff8700; text-decoration-color: #ff8700\">base_train</span> <span style=\"font-weight: bold\">(</span>ParquetDataset<span style=\"font-weight: bold\">)</span><span style=\"color: #808000; text-decoration-color: #808000\">...</span>                      <a href=\"file://D:\\devtools\\venv-pos-ia\\Lib\\site-packages\\kedro\\io\\data_catalog.py\" target=\"_blank\"><span style=\"color: #7f7f7f; text-decoration-color: #7f7f7f\">data_catalog.py</span></a><span style=\"color: #7f7f7f; text-decoration-color: #7f7f7f\">:</span><a href=\"file://D:\\devtools\\venv-pos-ia\\Lib\\site-packages\\kedro\\io\\data_catalog.py#432\" target=\"_blank\"><span style=\"color: #7f7f7f; text-decoration-color: #7f7f7f\">432</span></a>\n",
       "</pre>\n"
      ]
     },
     "metadata": {},
     "output_type": "display_data"
    },
    {
     "data": {
      "text/plain": [
       "\u001B[2;36m                   \u001B[0m\u001B[2;36m \u001B[0m\u001B[34mINFO    \u001B[0m Saving data to \u001B[38;5;208mbase_test\u001B[0m \u001B[1m(\u001B[0mParquetDataset\u001B[1m)\u001B[0m\u001B[33m...\u001B[0m                       \u001B]8;id=296202;file://D:\\devtools\\venv-pos-ia\\Lib\\site-packages\\kedro\\io\\data_catalog.py\u001B\\\u001B[2mdata_catalog.py\u001B[0m\u001B]8;;\u001B\\\u001B[2m:\u001B[0m\u001B]8;id=58890;file://D:\\devtools\\venv-pos-ia\\Lib\\site-packages\\kedro\\io\\data_catalog.py#432\u001B\\\u001B[2m432\u001B[0m\u001B]8;;\u001B\\\n"
      ],
      "text/html": [
       "<pre style=\"white-space:pre;overflow-x:auto;line-height:normal;font-family:Menlo,'DejaVu Sans Mono',consolas,'Courier New',monospace\"><span style=\"color: #7fbfbf; text-decoration-color: #7fbfbf\">                    </span><span style=\"color: #000080; text-decoration-color: #000080\">INFO    </span> Saving data to <span style=\"color: #ff8700; text-decoration-color: #ff8700\">base_test</span> <span style=\"font-weight: bold\">(</span>ParquetDataset<span style=\"font-weight: bold\">)</span><span style=\"color: #808000; text-decoration-color: #808000\">...</span>                       <a href=\"file://D:\\devtools\\venv-pos-ia\\Lib\\site-packages\\kedro\\io\\data_catalog.py\" target=\"_blank\"><span style=\"color: #7f7f7f; text-decoration-color: #7f7f7f\">data_catalog.py</span></a><span style=\"color: #7f7f7f; text-decoration-color: #7f7f7f\">:</span><a href=\"file://D:\\devtools\\venv-pos-ia\\Lib\\site-packages\\kedro\\io\\data_catalog.py#432\" target=\"_blank\"><span style=\"color: #7f7f7f; text-decoration-color: #7f7f7f\">432</span></a>\n",
       "</pre>\n"
      ]
     },
     "metadata": {},
     "output_type": "display_data"
    }
   ],
   "execution_count": 12
  }
 ],
 "metadata": {
  "kernelspec": {
   "display_name": "Python 3 (ipykernel)",
   "language": "python",
   "name": "python3"
  },
  "language_info": {
   "codemirror_mode": {
    "name": "ipython",
    "version": 3
   },
   "file_extension": ".py",
   "mimetype": "text/x-python",
   "name": "python",
   "nbconvert_exporter": "python",
   "pygments_lexer": "ipython3",
   "version": "3.11.9"
  }
 },
 "nbformat": 4,
 "nbformat_minor": 5
}
